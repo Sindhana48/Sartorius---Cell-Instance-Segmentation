{
 "cells": [
  {
   "cell_type": "markdown",
   "metadata": {},
   "source": [
    "# Sartorius Cell Instance Segmentation"
   ]
  },
  {
   "cell_type": "markdown",
   "metadata": {},
   "source": [
    "Fast AI Ideas and concepts learnt from this notebook: https://www.kaggle.com/robertlangdonvinci/fastai-sartorius-cell-end-to-end-solution-hatke"
   ]
  },
  {
   "cell_type": "code",
   "execution_count": 1,
   "metadata": {
    "execution": {
     "iopub.execute_input": "2021-12-06T04:13:10.070183Z",
     "iopub.status.busy": "2021-12-06T04:13:10.069438Z",
     "iopub.status.idle": "2021-12-06T04:13:12.072387Z",
     "shell.execute_reply": "2021-12-06T04:13:12.071404Z",
     "shell.execute_reply.started": "2021-12-06T04:13:10.070034Z"
    }
   },
   "outputs": [],
   "source": [
    "from fastai.vision.all import *\n",
    "\n",
    "import pandas as pd\n",
    "import numpy as np\n",
    "import seaborn as sns\n",
    "from scipy import stats\n",
    "from tqdm.notebook import tqdm\n",
    "import matplotlib.image as immg\n",
    "from joblib import Parallel, delayed\n",
    "import PIL,cv2,gc,os,sys,torch"
   ]
  },
  {
   "cell_type": "code",
   "execution_count": 2,
   "metadata": {
    "execution": {
     "iopub.execute_input": "2021-12-06T04:13:12.074827Z",
     "iopub.status.busy": "2021-12-06T04:13:12.074422Z",
     "iopub.status.idle": "2021-12-06T04:13:12.097347Z",
     "shell.execute_reply": "2021-12-06T04:13:12.096052Z",
     "shell.execute_reply.started": "2021-12-06T04:13:12.074766Z"
    }
   },
   "outputs": [],
   "source": [
    "import matplotlib.pyplot as plt\n",
    "%matplotlib inline\n",
    "%config InlineBackend.figure_format='retina'"
   ]
  },
  {
   "cell_type": "markdown",
   "metadata": {},
   "source": [
    "Pretrained weights for ResNet-34 -- https://www.kaggle.com/pytorch/resnet34"
   ]
  },
  {
   "cell_type": "code",
   "execution_count": 3,
   "metadata": {
    "execution": {
     "iopub.execute_input": "2021-12-06T04:13:12.099660Z",
     "iopub.status.busy": "2021-12-06T04:13:12.099087Z",
     "iopub.status.idle": "2021-12-06T04:13:13.130148Z",
     "shell.execute_reply": "2021-12-06T04:13:13.128980Z",
     "shell.execute_reply.started": "2021-12-06T04:13:12.099615Z"
    }
   },
   "outputs": [],
   "source": [
    "Path('/root/.cache/torch/hub/checkpoints/').mkdir(exist_ok=True, parents=True)\n",
    "!cp '../input/resnet34/resnet34.pth' '/root/.cache/torch/hub/checkpoints/resnet34-b627a593.pth'"
   ]
  },
  {
   "cell_type": "code",
   "execution_count": 4,
   "metadata": {
    "execution": {
     "iopub.execute_input": "2021-12-06T04:13:13.134582Z",
     "iopub.status.busy": "2021-12-06T04:13:13.132826Z",
     "iopub.status.idle": "2021-12-06T04:13:13.142250Z",
     "shell.execute_reply": "2021-12-06T04:13:13.141277Z",
     "shell.execute_reply.started": "2021-12-06T04:13:13.134519Z"
    }
   },
   "outputs": [],
   "source": [
    "# Path('/root/.cache/torch/hub/checkpoints/').mkdir(exist_ok=True, parents=True)\n",
    "# !cp '../input/resnet50/resnet50.pth' '/root/.cache/torch/hub/checkpoints/resnet50-0676ba61.pth'"
   ]
  },
  {
   "cell_type": "code",
   "execution_count": 5,
   "metadata": {
    "execution": {
     "iopub.execute_input": "2021-12-06T04:13:13.146069Z",
     "iopub.status.busy": "2021-12-06T04:13:13.145486Z",
     "iopub.status.idle": "2021-12-06T04:13:13.976268Z",
     "shell.execute_reply": "2021-12-06T04:13:13.975105Z",
     "shell.execute_reply.started": "2021-12-06T04:13:13.145993Z"
    }
   },
   "outputs": [],
   "source": [
    "df_train = pd.read_csv(\"../input/sartorius-cell-instance-segmentation/train.csv\")\n",
    "df_train.head()"
   ]
  },
  {
   "cell_type": "code",
   "execution_count": 6,
   "metadata": {
    "execution": {
     "iopub.execute_input": "2021-12-06T04:13:13.979045Z",
     "iopub.status.busy": "2021-12-06T04:13:13.978079Z",
     "iopub.status.idle": "2021-12-06T04:13:13.994825Z",
     "shell.execute_reply": "2021-12-06T04:13:13.993708Z",
     "shell.execute_reply.started": "2021-12-06T04:13:13.979000Z"
    }
   },
   "outputs": [],
   "source": [
    "df_train['cell_type'].unique()"
   ]
  },
  {
   "cell_type": "markdown",
   "metadata": {},
   "source": [
    "There are images of three different cell types: shsy5y, astro and cort"
   ]
  },
  {
   "cell_type": "code",
   "execution_count": 7,
   "metadata": {
    "execution": {
     "iopub.execute_input": "2021-12-06T04:13:13.997328Z",
     "iopub.status.busy": "2021-12-06T04:13:13.996912Z",
     "iopub.status.idle": "2021-12-06T04:13:14.338057Z",
     "shell.execute_reply": "2021-12-06T04:13:14.337031Z",
     "shell.execute_reply.started": "2021-12-06T04:13:13.997267Z"
    }
   },
   "outputs": [],
   "source": [
    "cp = sns.countplot(data=df_train, x='cell_type', palette='inferno')"
   ]
  },
  {
   "cell_type": "markdown",
   "metadata": {},
   "source": [
    "Most of the samples belong to the shsy5y type"
   ]
  },
  {
   "cell_type": "code",
   "execution_count": 8,
   "metadata": {
    "execution": {
     "iopub.execute_input": "2021-12-06T04:13:14.340451Z",
     "iopub.status.busy": "2021-12-06T04:13:14.339863Z",
     "iopub.status.idle": "2021-12-06T04:13:14.394440Z",
     "shell.execute_reply": "2021-12-06T04:13:14.393541Z",
     "shell.execute_reply.started": "2021-12-06T04:13:14.340400Z"
    }
   },
   "outputs": [],
   "source": [
    "# encode cell types\n",
    "dict_celltype = {'shsy5y':1, 'astro':2, 'cort':3}\n",
    "\n",
    "df_train['cell_type'].replace(dict_celltype, inplace=True)\n",
    "df_train['cell_type'] = pd.to_numeric(df_train['cell_type'])"
   ]
  },
  {
   "cell_type": "markdown",
   "metadata": {},
   "source": [
    "Helper function to identify the positions using the annotations in the images as segments"
   ]
  },
  {
   "cell_type": "code",
   "execution_count": 9,
   "metadata": {
    "execution": {
     "iopub.execute_input": "2021-12-06T04:13:14.396403Z",
     "iopub.status.busy": "2021-12-06T04:13:14.396032Z",
     "iopub.status.idle": "2021-12-06T04:13:14.406383Z",
     "shell.execute_reply": "2021-12-06T04:13:14.405289Z",
     "shell.execute_reply.started": "2021-12-06T04:13:14.396372Z"
    }
   },
   "outputs": [],
   "source": [
    "def rle_decode(mask_rle, shape, color=1):\n",
    "\n",
    "    s = mask_rle.split()\n",
    "    \n",
    "    starts = list(map(lambda x: int(x) - 1, s[0::2]))\n",
    "    lengths = list(map(int, s[1::2]))\n",
    "    ends = [x + y for x, y in zip(starts, lengths)]\n",
    "    \n",
    "    img = np.zeros((shape[0] * shape[1], shape[2]), dtype=np.float32)\n",
    "            \n",
    "    for start, end in zip(starts, ends):\n",
    "        img[start : end] = color\n",
    "    \n",
    "    return img.reshape(shape)"
   ]
  },
  {
   "cell_type": "markdown",
   "metadata": {},
   "source": [
    "From the training dataset, we see that the height and width of the segments are uniform: 520x704. We are using 3 color channels to visualize the masks"
   ]
  },
  {
   "cell_type": "code",
   "execution_count": 10,
   "metadata": {
    "execution": {
     "iopub.execute_input": "2021-12-06T04:13:14.409567Z",
     "iopub.status.busy": "2021-12-06T04:13:14.408844Z",
     "iopub.status.idle": "2021-12-06T04:13:14.416476Z",
     "shell.execute_reply": "2021-12-06T04:13:14.415303Z",
     "shell.execute_reply.started": "2021-12-06T04:13:14.409519Z"
    }
   },
   "outputs": [],
   "source": [
    "mask_shape = (520, 704, 3)"
   ]
  },
  {
   "cell_type": "code",
   "execution_count": 11,
   "metadata": {
    "execution": {
     "iopub.execute_input": "2021-12-06T04:13:14.419417Z",
     "iopub.status.busy": "2021-12-06T04:13:14.418511Z",
     "iopub.status.idle": "2021-12-06T04:13:14.432516Z",
     "shell.execute_reply": "2021-12-06T04:13:14.431514Z",
     "shell.execute_reply.started": "2021-12-06T04:13:14.419369Z"
    }
   },
   "outputs": [],
   "source": [
    "def plot_masks(image_id, colors=True):\n",
    "    labels = df_train[df_train[\"id\"] == image_id][\"annotation\"].tolist()\n",
    "\n",
    "    if colors:\n",
    "        mask = np.zeros(mask_shape)\n",
    "        for label in labels:\n",
    "            mask += rle_decode(label, shape=mask_shape, color=np.random.rand(3))\n",
    "    else:\n",
    "        mask = np.zeros((520, 704, 1))\n",
    "        for label in labels:\n",
    "            mask += rle_decode(label, shape=(520, 704, 1))\n",
    "    mask = mask.clip(0, 1)\n",
    "\n",
    "    image = cv2.imread(f\"../input/sartorius-cell-instance-segmentation/train/{image_id}.png\")\n",
    "    image = cv2.cvtColor(image, cv2.COLOR_BGR2RGB)\n",
    "\n",
    "    plt.figure(figsize=(12, 12))\n",
    "    plt.subplot(1, 3, 1)\n",
    "    plt.imshow(image)\n",
    "    plt.axis(\"off\")\n",
    "    plt.title('Image')\n",
    "    plt.subplot(1, 3, 2)\n",
    "    plt.imshow(image)\n",
    "    plt.imshow(mask, alpha=0.5)\n",
    "    plt.axis(\"off\")\n",
    "    plt.title('Image with Mask')\n",
    "    plt.subplot(1, 3, 3)\n",
    "    plt.imshow(mask)\n",
    "    plt.axis(\"off\")\n",
    "    plt.title('Mask')\n",
    "    \n",
    "    plt.show();"
   ]
  },
  {
   "cell_type": "code",
   "execution_count": 12,
   "metadata": {
    "execution": {
     "iopub.execute_input": "2021-12-06T04:13:14.434714Z",
     "iopub.status.busy": "2021-12-06T04:13:14.434368Z",
     "iopub.status.idle": "2021-12-06T04:13:15.200901Z",
     "shell.execute_reply": "2021-12-06T04:13:15.198323Z",
     "shell.execute_reply.started": "2021-12-06T04:13:14.434667Z"
    }
   },
   "outputs": [],
   "source": [
    "plot_masks(\"ffdb3cc02eef\", colors=False)"
   ]
  },
  {
   "cell_type": "code",
   "execution_count": 13,
   "metadata": {
    "execution": {
     "iopub.execute_input": "2021-12-06T04:13:15.202594Z",
     "iopub.status.busy": "2021-12-06T04:13:15.202302Z",
     "iopub.status.idle": "2021-12-06T04:13:15.962106Z",
     "shell.execute_reply": "2021-12-06T04:13:15.961076Z",
     "shell.execute_reply.started": "2021-12-06T04:13:15.202539Z"
    }
   },
   "outputs": [],
   "source": [
    "plot_masks(\"ffdb3cc02eef\", colors=True)"
   ]
  },
  {
   "cell_type": "code",
   "execution_count": 14,
   "metadata": {
    "execution": {
     "iopub.execute_input": "2021-12-06T04:13:15.968200Z",
     "iopub.status.busy": "2021-12-06T04:13:15.967657Z",
     "iopub.status.idle": "2021-12-06T04:13:17.390878Z",
     "shell.execute_reply": "2021-12-06T04:13:17.390014Z",
     "shell.execute_reply.started": "2021-12-06T04:13:15.968144Z"
    }
   },
   "outputs": [],
   "source": [
    "plot_masks(\"73df2962444f\", colors=True)"
   ]
  },
  {
   "cell_type": "markdown",
   "metadata": {},
   "source": [
    "As there are many instances of a single image, grouping them by 'id'"
   ]
  },
  {
   "cell_type": "code",
   "execution_count": 15,
   "metadata": {
    "execution": {
     "iopub.execute_input": "2021-12-06T04:13:17.392980Z",
     "iopub.status.busy": "2021-12-06T04:13:17.392404Z",
     "iopub.status.idle": "2021-12-06T04:13:17.398150Z",
     "shell.execute_reply": "2021-12-06T04:13:17.397339Z",
     "shell.execute_reply.started": "2021-12-06T04:13:17.392916Z"
    }
   },
   "outputs": [],
   "source": [
    "# build mask\n",
    "df_grouped = df_train.groupby('id')"
   ]
  },
  {
   "cell_type": "code",
   "execution_count": 16,
   "metadata": {
    "execution": {
     "iopub.execute_input": "2021-12-06T04:13:17.400849Z",
     "iopub.status.busy": "2021-12-06T04:13:17.399801Z",
     "iopub.status.idle": "2021-12-06T04:13:17.437306Z",
     "shell.execute_reply": "2021-12-06T04:13:17.436385Z",
     "shell.execute_reply.started": "2021-12-06T04:13:17.400804Z"
    }
   },
   "outputs": [],
   "source": [
    "df_grouped.head(5)"
   ]
  },
  {
   "cell_type": "code",
   "execution_count": 17,
   "metadata": {
    "execution": {
     "iopub.execute_input": "2021-12-06T04:13:17.439369Z",
     "iopub.status.busy": "2021-12-06T04:13:17.438866Z",
     "iopub.status.idle": "2021-12-06T04:13:17.447320Z",
     "shell.execute_reply": "2021-12-06T04:13:17.446369Z",
     "shell.execute_reply.started": "2021-12-06T04:13:17.439326Z"
    }
   },
   "outputs": [],
   "source": [
    "def build_mask(img_id,color=1):\n",
    "    temp = df_grouped.get_group(img_id)\n",
    "    temp_annot = temp.loc[:,'annotation'].tolist()\n",
    "    mask = np.zeros((520, 704, 1))\n",
    "    for label in temp_annot:\n",
    "        mask += rle_decode(label, shape=(520, 704, 1))\n",
    "    mask = mask.clip(0, 1)\n",
    "    mask[mask==1] = color\n",
    "    return mask"
   ]
  },
  {
   "cell_type": "code",
   "execution_count": 18,
   "metadata": {
    "execution": {
     "iopub.execute_input": "2021-12-06T04:13:17.450910Z",
     "iopub.status.busy": "2021-12-06T04:13:17.449979Z",
     "iopub.status.idle": "2021-12-06T04:13:17.580294Z",
     "shell.execute_reply": "2021-12-06T04:13:17.579193Z",
     "shell.execute_reply.started": "2021-12-06T04:13:17.450847Z"
    }
   },
   "outputs": [],
   "source": [
    "# group images based on cell type\n",
    "df_celltype = df_train[['id','cell_type']].groupby('id').agg(lambda x:stats.mode(np.array(x))[0]).reset_index()\n",
    "df_celltype.head(10)"
   ]
  },
  {
   "cell_type": "code",
   "execution_count": 19,
   "metadata": {
    "execution": {
     "iopub.execute_input": "2021-12-06T04:13:17.581880Z",
     "iopub.status.busy": "2021-12-06T04:13:17.581592Z",
     "iopub.status.idle": "2021-12-06T04:13:17.588422Z",
     "shell.execute_reply": "2021-12-06T04:13:17.587511Z",
     "shell.execute_reply.started": "2021-12-06T04:13:17.581838Z"
    }
   },
   "outputs": [],
   "source": [
    "# get image ids for each cell type\n",
    "files = np.array(list(zip(df_celltype['id'],df_celltype['cell_type'])))"
   ]
  },
  {
   "cell_type": "code",
   "execution_count": 20,
   "metadata": {
    "execution": {
     "iopub.execute_input": "2021-12-06T04:13:17.590585Z",
     "iopub.status.busy": "2021-12-06T04:13:17.590035Z",
     "iopub.status.idle": "2021-12-06T04:13:17.602405Z",
     "shell.execute_reply": "2021-12-06T04:13:17.601006Z",
     "shell.execute_reply.started": "2021-12-06T04:13:17.590525Z"
    }
   },
   "outputs": [],
   "source": [
    "len(files)"
   ]
  },
  {
   "cell_type": "code",
   "execution_count": 21,
   "metadata": {
    "execution": {
     "iopub.execute_input": "2021-12-06T04:13:17.605082Z",
     "iopub.status.busy": "2021-12-06T04:13:17.604438Z",
     "iopub.status.idle": "2021-12-06T04:13:17.609559Z",
     "shell.execute_reply": "2021-12-06T04:13:17.608503Z",
     "shell.execute_reply.started": "2021-12-06T04:13:17.605021Z"
    }
   },
   "outputs": [],
   "source": [
    "mask2x2 = 'TrainMask2x2.zip'\n",
    "image2x2 = 'TrainImage2x2.zip'"
   ]
  },
  {
   "cell_type": "code",
   "execution_count": 22,
   "metadata": {
    "execution": {
     "iopub.execute_input": "2021-12-06T04:13:17.612290Z",
     "iopub.status.busy": "2021-12-06T04:13:17.611589Z",
     "iopub.status.idle": "2021-12-06T04:13:57.032477Z",
     "shell.execute_reply": "2021-12-06T04:13:57.031538Z",
     "shell.execute_reply.started": "2021-12-06T04:13:17.612246Z"
    }
   },
   "outputs": [],
   "source": [
    "with zipfile.ZipFile(mask2x2, 'w') as img_out:\n",
    "    for idx in tqdm(range(0,len(files))):\n",
    "        temp_mask = build_mask(files[idx][0],color=int(files[idx][1]))\n",
    "        M = temp_mask.shape[0]//2\n",
    "        N = temp_mask.shape[1]//2\n",
    "        tiles = [temp_mask[x:x+M,y:y+N] for x in range(0,temp_mask.shape[0],M) for y in range(0,temp_mask.shape[1],N)]\n",
    "        for j in range(4):\n",
    "            mask1 = tiles[j]\n",
    "            mask1 = cv2.imencode('.png',mask1)[1]\n",
    "            img_out.writestr(files[idx][0] + f'_{j}_mask.png', mask1)"
   ]
  },
  {
   "cell_type": "code",
   "execution_count": 23,
   "metadata": {
    "execution": {
     "iopub.execute_input": "2021-12-06T04:13:57.034748Z",
     "iopub.status.busy": "2021-12-06T04:13:57.034327Z",
     "iopub.status.idle": "2021-12-06T04:14:17.130994Z",
     "shell.execute_reply": "2021-12-06T04:14:17.129773Z",
     "shell.execute_reply.started": "2021-12-06T04:13:57.034700Z"
    }
   },
   "outputs": [],
   "source": [
    "with zipfile.ZipFile(image2x2, 'w') as img_out:\n",
    "    for idx in tqdm(range(0,len(files))):\n",
    "        image = cv2.imread(f\"../input/sartorius-cell-instance-segmentation/train/{files[idx][0]}.png\")\n",
    "        image = cv2.cvtColor(image, cv2.COLOR_BGR2RGB)\n",
    "        temp_mask = image\n",
    "        M = temp_mask.shape[0]//2\n",
    "        N = temp_mask.shape[1]//2\n",
    "        tiles = [temp_mask[x:x+M,y:y+N] for x in range(0,temp_mask.shape[0],M) for y in range(0,temp_mask.shape[1],N)]\n",
    "        for j in range(4):\n",
    "            mask1 = tiles[j]\n",
    "            mask1 = cv2.imencode('.png',mask1)[1]\n",
    "            img_out.writestr(files[idx][0] + f'_{j}.png', mask1)"
   ]
  },
  {
   "cell_type": "markdown",
   "metadata": {},
   "source": [
    "Idea to adapt Data into 2x2 tiles to increase dataset and faster training from:\n",
    "\n",
    "https://www.kaggle.com/robertlangdonvinci/sartorius-cell-segmentation-data-gen/notebook"
   ]
  },
  {
   "cell_type": "markdown",
   "metadata": {},
   "source": [
    "Not all the broken down tiles will contain masks, so delete the ones with no mask"
   ]
  },
  {
   "cell_type": "code",
   "execution_count": 24,
   "metadata": {
    "execution": {
     "iopub.execute_input": "2021-12-06T04:14:17.133440Z",
     "iopub.status.busy": "2021-12-06T04:14:17.132914Z",
     "iopub.status.idle": "2021-12-06T04:14:17.140964Z",
     "shell.execute_reply": "2021-12-06T04:14:17.139951Z",
     "shell.execute_reply.started": "2021-12-06T04:14:17.133393Z"
    }
   },
   "outputs": [],
   "source": [
    "os.listdir('/kaggle/working')"
   ]
  },
  {
   "cell_type": "code",
   "execution_count": 25,
   "metadata": {
    "execution": {
     "iopub.execute_input": "2021-12-06T04:14:17.143976Z",
     "iopub.status.busy": "2021-12-06T04:14:17.143263Z",
     "iopub.status.idle": "2021-12-06T04:14:17.157123Z",
     "shell.execute_reply": "2021-12-06T04:14:17.156163Z",
     "shell.execute_reply.started": "2021-12-06T04:14:17.143914Z"
    }
   },
   "outputs": [],
   "source": [
    "# !unzip '/kaggle/working/TrainImage2x2.zip'"
   ]
  },
  {
   "cell_type": "code",
   "execution_count": 26,
   "metadata": {
    "execution": {
     "iopub.execute_input": "2021-12-06T04:14:17.159669Z",
     "iopub.status.busy": "2021-12-06T04:14:17.159188Z",
     "iopub.status.idle": "2021-12-06T04:14:17.170062Z",
     "shell.execute_reply": "2021-12-06T04:14:17.168878Z",
     "shell.execute_reply.started": "2021-12-06T04:14:17.159625Z"
    }
   },
   "outputs": [],
   "source": [
    "# using the images and masks loaded in the input directory\n",
    "path = Path('../input/sartoriuscellinstancesegmentationmaskpng')\n",
    "# path = Path('/kaggle/working')"
   ]
  },
  {
   "cell_type": "code",
   "execution_count": 27,
   "metadata": {
    "execution": {
     "iopub.execute_input": "2021-12-06T04:14:17.174135Z",
     "iopub.status.busy": "2021-12-06T04:14:17.173679Z",
     "iopub.status.idle": "2021-12-06T04:14:17.181711Z",
     "shell.execute_reply": "2021-12-06T04:14:17.180691Z",
     "shell.execute_reply.started": "2021-12-06T04:14:17.174093Z"
    }
   },
   "outputs": [],
   "source": [
    "def label_func(fn): \n",
    "    return f\"/kaggle/input/sartoriuscellinstancesegmentationmaskpng/TrainMask2x2/{fn.stem}_mask.png\""
   ]
  },
  {
   "cell_type": "code",
   "execution_count": 28,
   "metadata": {
    "execution": {
     "iopub.execute_input": "2021-12-06T04:14:17.183788Z",
     "iopub.status.busy": "2021-12-06T04:14:17.183101Z",
     "iopub.status.idle": "2021-12-06T04:14:17.191776Z",
     "shell.execute_reply": "2021-12-06T04:14:17.190189Z",
     "shell.execute_reply.started": "2021-12-06T04:14:17.183649Z"
    }
   },
   "outputs": [],
   "source": [
    "# def label_func(fn): \n",
    "#     return f\"/kaggle/working/TrainMask2x2/{fn.stem}_mask.png\""
   ]
  },
  {
   "cell_type": "code",
   "execution_count": 29,
   "metadata": {
    "execution": {
     "iopub.execute_input": "2021-12-06T04:14:17.194455Z",
     "iopub.status.busy": "2021-12-06T04:14:17.193179Z",
     "iopub.status.idle": "2021-12-06T04:14:17.672934Z",
     "shell.execute_reply": "2021-12-06T04:14:17.671883Z",
     "shell.execute_reply.started": "2021-12-06T04:14:17.194386Z"
    }
   },
   "outputs": [],
   "source": [
    "img_files = get_image_files(path/'TrainImage2x2')"
   ]
  },
  {
   "cell_type": "code",
   "execution_count": 30,
   "metadata": {
    "execution": {
     "iopub.execute_input": "2021-12-06T04:14:17.674772Z",
     "iopub.status.busy": "2021-12-06T04:14:17.674479Z",
     "iopub.status.idle": "2021-12-06T04:14:17.685230Z",
     "shell.execute_reply": "2021-12-06T04:14:17.683914Z",
     "shell.execute_reply.started": "2021-12-06T04:14:17.674730Z"
    }
   },
   "outputs": [],
   "source": [
    "len(img_files)"
   ]
  },
  {
   "cell_type": "code",
   "execution_count": 31,
   "metadata": {
    "execution": {
     "iopub.execute_input": "2021-12-06T04:14:17.687801Z",
     "iopub.status.busy": "2021-12-06T04:14:17.687181Z",
     "iopub.status.idle": "2021-12-06T04:14:24.606544Z",
     "shell.execute_reply": "2021-12-06T04:14:24.605537Z",
     "shell.execute_reply.started": "2021-12-06T04:14:17.687755Z"
    }
   },
   "outputs": [],
   "source": [
    "img_files_clean = [] \n",
    "for f in tqdm(img_files):\n",
    "    loc = label_func(f)\n",
    "    img = np.unique(np.array(Image.open(loc)))\n",
    "    if len(img)!=1:\n",
    "        img_files_clean.append(f)"
   ]
  },
  {
   "cell_type": "code",
   "execution_count": 32,
   "metadata": {
    "execution": {
     "iopub.execute_input": "2021-12-06T04:14:24.608959Z",
     "iopub.status.busy": "2021-12-06T04:14:24.608367Z",
     "iopub.status.idle": "2021-12-06T04:14:24.616744Z",
     "shell.execute_reply": "2021-12-06T04:14:24.615616Z",
     "shell.execute_reply.started": "2021-12-06T04:14:24.608909Z"
    }
   },
   "outputs": [],
   "source": [
    "len(img_files),len(img_files_clean)"
   ]
  },
  {
   "cell_type": "code",
   "execution_count": 33,
   "metadata": {
    "execution": {
     "iopub.execute_input": "2021-12-06T04:14:24.619057Z",
     "iopub.status.busy": "2021-12-06T04:14:24.618459Z",
     "iopub.status.idle": "2021-12-06T04:14:24.627690Z",
     "shell.execute_reply": "2021-12-06T04:14:24.626682Z",
     "shell.execute_reply.started": "2021-12-06T04:14:24.618991Z"
    }
   },
   "outputs": [],
   "source": [
    "img_files = img_files_clean "
   ]
  },
  {
   "cell_type": "code",
   "execution_count": 34,
   "metadata": {
    "execution": {
     "iopub.execute_input": "2021-12-06T04:14:24.629939Z",
     "iopub.status.busy": "2021-12-06T04:14:24.629300Z",
     "iopub.status.idle": "2021-12-06T04:14:24.642239Z",
     "shell.execute_reply": "2021-12-06T04:14:24.641276Z",
     "shell.execute_reply.started": "2021-12-06T04:14:24.629890Z"
    }
   },
   "outputs": [],
   "source": [
    "n = np.random.randint(0,100)\n",
    "img = PIL.Image.open(img_files[n])\n",
    "mask = PIL.Image.open(label_func(img_files[n]))"
   ]
  },
  {
   "cell_type": "code",
   "execution_count": 35,
   "metadata": {
    "execution": {
     "iopub.execute_input": "2021-12-06T04:14:24.645041Z",
     "iopub.status.busy": "2021-12-06T04:14:24.644585Z",
     "iopub.status.idle": "2021-12-06T04:14:26.046056Z",
     "shell.execute_reply": "2021-12-06T04:14:26.045187Z",
     "shell.execute_reply.started": "2021-12-06T04:14:24.644994Z"
    }
   },
   "outputs": [],
   "source": [
    "plt.figure(1,figsize=(18,8))\n",
    "plt.subplot(121)\n",
    "plt.imshow(img)\n",
    "plt.title('raw image')\n",
    "plt.subplot(122)\n",
    "plt.imshow(img)\n",
    "plt.imshow(mask,alpha=0.5);\n",
    "plt.title('image + mask');"
   ]
  },
  {
   "cell_type": "code",
   "execution_count": 36,
   "metadata": {
    "execution": {
     "iopub.execute_input": "2021-12-06T04:14:26.049367Z",
     "iopub.status.busy": "2021-12-06T04:14:26.047536Z",
     "iopub.status.idle": "2021-12-06T04:14:26.054526Z",
     "shell.execute_reply": "2021-12-06T04:14:26.053080Z",
     "shell.execute_reply.started": "2021-12-06T04:14:26.049323Z"
    }
   },
   "outputs": [],
   "source": [
    "img_path = Path('../input/sartoriuscellinstancesegmentationmaskpng/TrainImage2x2')"
   ]
  },
  {
   "cell_type": "code",
   "execution_count": 37,
   "metadata": {
    "execution": {
     "iopub.execute_input": "2021-12-06T04:14:26.056797Z",
     "iopub.status.busy": "2021-12-06T04:14:26.056474Z",
     "iopub.status.idle": "2021-12-06T04:14:26.065662Z",
     "shell.execute_reply": "2021-12-06T04:14:26.064570Z",
     "shell.execute_reply.started": "2021-12-06T04:14:26.056757Z"
    }
   },
   "outputs": [],
   "source": [
    "def get_classes(fnames):\n",
    "    class_codes=[]\n",
    "    for i in tqdm(range(len(fnames))):\n",
    "        class_codes += list(np.unique(np.asarray(Image.open(label_func(fnames[i])))))\n",
    "    return np.array(list(set(class_codes)))"
   ]
  },
  {
   "cell_type": "code",
   "execution_count": 38,
   "metadata": {
    "execution": {
     "iopub.execute_input": "2021-12-06T04:14:26.068179Z",
     "iopub.status.busy": "2021-12-06T04:14:26.067293Z",
     "iopub.status.idle": "2021-12-06T04:14:32.364055Z",
     "shell.execute_reply": "2021-12-06T04:14:32.362976Z",
     "shell.execute_reply.started": "2021-12-06T04:14:26.068142Z"
    }
   },
   "outputs": [],
   "source": [
    "codes = get_classes(img_files);codes"
   ]
  },
  {
   "cell_type": "markdown",
   "metadata": {},
   "source": [
    "## Creating A dataloader"
   ]
  },
  {
   "cell_type": "markdown",
   "metadata": {},
   "source": [
    "Fast AI uses a dataloader similar to the DataLoaders in PyTorch but specific to load images for Segmentation tasks. "
   ]
  },
  {
   "cell_type": "code",
   "execution_count": 39,
   "metadata": {
    "execution": {
     "iopub.execute_input": "2021-12-06T04:14:32.367133Z",
     "iopub.status.busy": "2021-12-06T04:14:32.365974Z",
     "iopub.status.idle": "2021-12-06T04:14:32.373894Z",
     "shell.execute_reply": "2021-12-06T04:14:32.372874Z",
     "shell.execute_reply.started": "2021-12-06T04:14:32.367084Z"
    }
   },
   "outputs": [],
   "source": [
    "def label_func2(fn): \n",
    "    fn = Path(fn)\n",
    "    img = np.array(Image.open(f\"../input/sartoriuscellinstancesegmentationmaskpng/TrainMask2x2/{fn.stem}_mask.png\"))\n",
    "    img = img.clip(0,1)\n",
    "    return img"
   ]
  },
  {
   "cell_type": "code",
   "execution_count": 40,
   "metadata": {
    "execution": {
     "iopub.execute_input": "2021-12-06T04:14:32.376572Z",
     "iopub.status.busy": "2021-12-06T04:14:32.375849Z",
     "iopub.status.idle": "2021-12-06T04:14:34.591672Z",
     "shell.execute_reply": "2021-12-06T04:14:34.590645Z",
     "shell.execute_reply.started": "2021-12-06T04:14:32.376524Z"
    }
   },
   "outputs": [],
   "source": [
    "dls = SegmentationDataLoaders.from_label_func(img_path, bs=8, \n",
    "                                                    fnames = img_files,\n",
    "                                                    label_func = label_func2, \n",
    "                                                    codes = [0,1])"
   ]
  },
  {
   "cell_type": "code",
   "execution_count": 41,
   "metadata": {
    "execution": {
     "iopub.execute_input": "2021-12-06T04:14:34.599941Z",
     "iopub.status.busy": "2021-12-06T04:14:34.599250Z",
     "iopub.status.idle": "2021-12-06T04:14:35.927680Z",
     "shell.execute_reply": "2021-12-06T04:14:35.926838Z",
     "shell.execute_reply.started": "2021-12-06T04:14:34.599907Z"
    }
   },
   "outputs": [],
   "source": [
    "dls.show_batch(max_n=8,figsize=(17,8))"
   ]
  },
  {
   "cell_type": "code",
   "execution_count": 42,
   "metadata": {
    "execution": {
     "iopub.execute_input": "2021-12-06T04:14:35.929490Z",
     "iopub.status.busy": "2021-12-06T04:14:35.929079Z",
     "iopub.status.idle": "2021-12-06T04:14:35.938159Z",
     "shell.execute_reply": "2021-12-06T04:14:35.936923Z",
     "shell.execute_reply.started": "2021-12-06T04:14:35.929451Z"
    }
   },
   "outputs": [],
   "source": [
    "len(dls.train_ds),len(dls.valid_ds)"
   ]
  },
  {
   "cell_type": "code",
   "execution_count": 43,
   "metadata": {
    "execution": {
     "iopub.execute_input": "2021-12-06T04:14:35.940890Z",
     "iopub.status.busy": "2021-12-06T04:14:35.939920Z",
     "iopub.status.idle": "2021-12-06T04:14:35.948865Z",
     "shell.execute_reply": "2021-12-06T04:14:35.947563Z",
     "shell.execute_reply.started": "2021-12-06T04:14:35.940848Z"
    }
   },
   "outputs": [],
   "source": [
    "name2id = {v:k for k,v in enumerate(codes)}\n",
    "void_code = -1\n",
    "# Pixel Accuracy\n",
    "def cell_mask_accuracy(input, target):\n",
    "    target = target.squeeze(1)\n",
    "    mask = target != void_code\n",
    "    return (input.argmax(dim=1)[mask]==target[mask]).float().mean()"
   ]
  },
  {
   "cell_type": "code",
   "execution_count": 44,
   "metadata": {
    "execution": {
     "iopub.execute_input": "2021-12-06T04:14:35.951633Z",
     "iopub.status.busy": "2021-12-06T04:14:35.950539Z",
     "iopub.status.idle": "2021-12-06T04:14:35.961636Z",
     "shell.execute_reply": "2021-12-06T04:14:35.960411Z",
     "shell.execute_reply.started": "2021-12-06T04:14:35.951577Z"
    }
   },
   "outputs": [],
   "source": [
    "name2id"
   ]
  },
  {
   "cell_type": "code",
   "execution_count": 45,
   "metadata": {
    "execution": {
     "iopub.execute_input": "2021-12-06T04:14:35.964033Z",
     "iopub.status.busy": "2021-12-06T04:14:35.963371Z",
     "iopub.status.idle": "2021-12-06T04:14:35.969743Z",
     "shell.execute_reply": "2021-12-06T04:14:35.968286Z",
     "shell.execute_reply.started": "2021-12-06T04:14:35.963979Z"
    }
   },
   "outputs": [],
   "source": [
    "acc = cell_mask_accuracy"
   ]
  },
  {
   "cell_type": "markdown",
   "metadata": {},
   "source": [
    "## IoU metrics"
   ]
  },
  {
   "cell_type": "code",
   "execution_count": 46,
   "metadata": {
    "execution": {
     "iopub.execute_input": "2021-12-06T04:14:35.972240Z",
     "iopub.status.busy": "2021-12-06T04:14:35.971811Z",
     "iopub.status.idle": "2021-12-06T04:14:35.986094Z",
     "shell.execute_reply": "2021-12-06T04:14:35.984930Z",
     "shell.execute_reply.started": "2021-12-06T04:14:35.972174Z"
    }
   },
   "outputs": [],
   "source": [
    "# https://forums.fast.ai/t/multi-class-semantic-segmentation-metrics-and-accuracy/74665/4\n",
    "# Return Jaccard index, or Intersection over Union (IoU) value\n",
    "def IoU(preds:Tensor, targs:Tensor, eps:float=1e-8):\n",
    "    \"\"\"Computes the Jaccard loss, a.k.a the IoU loss.\n",
    "    Notes: [Batch size,Num classes,Height,Width]\n",
    "    Args:\n",
    "        targs: a tensor of shape [B, H, W] or [B, 1, H, W].\n",
    "        preds: a tensor of shape [B, C, H, W]. Corresponds to\n",
    "            the raw output or logits of the model. (prediction)\n",
    "        eps: added to the denominator for numerical stability.\n",
    "    Returns:\n",
    "        iou: the average class intersection over union value \n",
    "             for multi-class image segmentation\n",
    "    \"\"\"\n",
    "    num_classes = preds.shape[1]\n",
    "    true_1_hot = torch.eye(num_classes)[targs.squeeze(1)]\n",
    "\n",
    "    # Permute [B,H,W,C] to [B,C,H,W]\n",
    "    true_1_hot = true_1_hot.permute(0, 3, 1, 2).float()\n",
    "\n",
    "    # Take softmax along class dimension; all class probs add to 1 (per pixel)\n",
    "    probas = F.softmax(preds, dim=1)\n",
    "        \n",
    "    true_1_hot = true_1_hot.type(preds.type())\n",
    "    \n",
    "    # Sum probabilities by class and across batch images\n",
    "    dims = (0,) + tuple(range(2, targs.ndimension()))\n",
    "    intersection = torch.sum(probas * true_1_hot, dims) # [class0,class1,class2,...]\n",
    "    cardinality = torch.sum(probas + true_1_hot, dims)  # [class0,class1,class2,...]\n",
    "    union = cardinality - intersection\n",
    "    iou = (intersection / (union + eps)).mean()   # find mean of class IoU values\n",
    "    return iou"
   ]
  },
  {
   "cell_type": "markdown",
   "metadata": {},
   "source": [
    "## Creating a UNet Learner"
   ]
  },
  {
   "cell_type": "markdown",
   "metadata": {},
   "source": [
    "**This module builds a dynamic U-Net from any backbone pretrained on ImageNet, automatically inferring the intermediate sizes.**\n",
    "\n",
    "***\n",
    "\n",
    "![dynamicUnet](https://fastai1.fast.ai/imgs/u-net-architecture.png)\n",
    "\n",
    "***\n",
    "\n",
    "**This is the original U-Net. The difference here is that the left part is a pretrained model.**\n",
    "\n",
    "https://fastai1.fast.ai/vision.models.unet.html"
   ]
  },
  {
   "cell_type": "code",
   "execution_count": 47,
   "metadata": {
    "execution": {
     "iopub.execute_input": "2021-12-06T04:14:35.989429Z",
     "iopub.status.busy": "2021-12-06T04:14:35.988025Z",
     "iopub.status.idle": "2021-12-06T04:14:38.327262Z",
     "shell.execute_reply": "2021-12-06T04:14:38.326271Z",
     "shell.execute_reply.started": "2021-12-06T04:14:35.989358Z"
    }
   },
   "outputs": [],
   "source": [
    "learn = unet_learner(dls, resnet34, model_dir='/kaggle/working/',metrics=[acc,Dice(),IoU]).to_fp16()"
   ]
  },
  {
   "cell_type": "code",
   "execution_count": 48,
   "metadata": {
    "execution": {
     "iopub.execute_input": "2021-12-06T04:14:38.329319Z",
     "iopub.status.busy": "2021-12-06T04:14:38.328920Z",
     "iopub.status.idle": "2021-12-06T04:14:38.334645Z",
     "shell.execute_reply": "2021-12-06T04:14:38.333046Z",
     "shell.execute_reply.started": "2021-12-06T04:14:38.329251Z"
    }
   },
   "outputs": [],
   "source": [
    "# /root/.cache/torch/hub/checkpoints/resnet50-0676ba61.pth"
   ]
  },
  {
   "cell_type": "code",
   "execution_count": 49,
   "metadata": {
    "execution": {
     "iopub.execute_input": "2021-12-06T04:14:38.337064Z",
     "iopub.status.busy": "2021-12-06T04:14:38.336318Z",
     "iopub.status.idle": "2021-12-06T04:14:38.363123Z",
     "shell.execute_reply": "2021-12-06T04:14:38.362159Z",
     "shell.execute_reply.started": "2021-12-06T04:14:38.337019Z"
    }
   },
   "outputs": [],
   "source": [
    "learn.show_training_loop()"
   ]
  },
  {
   "cell_type": "markdown",
   "metadata": {},
   "source": [
    "Launch a mock training to find a good learning rate"
   ]
  },
  {
   "cell_type": "markdown",
   "metadata": {},
   "source": [
    "Resnet50 was taking up a lot of GPU and training was interrupted with a 'CUDA out of memory' exception, so using ResNet 34"
   ]
  },
  {
   "cell_type": "code",
   "execution_count": 50,
   "metadata": {
    "execution": {
     "iopub.execute_input": "2021-12-06T04:14:38.366810Z",
     "iopub.status.busy": "2021-12-06T04:14:38.366594Z",
     "iopub.status.idle": "2021-12-06T04:15:11.372138Z",
     "shell.execute_reply": "2021-12-06T04:15:11.371144Z",
     "shell.execute_reply.started": "2021-12-06T04:14:38.366782Z"
    }
   },
   "outputs": [],
   "source": [
    "learn.lr_find()"
   ]
  },
  {
   "cell_type": "code",
   "execution_count": 51,
   "metadata": {
    "execution": {
     "iopub.execute_input": "2021-12-06T04:15:11.375520Z",
     "iopub.status.busy": "2021-12-06T04:15:11.373796Z",
     "iopub.status.idle": "2021-12-06T04:15:11.507014Z",
     "shell.execute_reply": "2021-12-06T04:15:11.505983Z",
     "shell.execute_reply.started": "2021-12-06T04:15:11.375450Z"
    }
   },
   "outputs": [],
   "source": [
    "gc.collect()"
   ]
  },
  {
   "cell_type": "markdown",
   "metadata": {},
   "source": [
    "* Start your training"
   ]
  },
  {
   "cell_type": "code",
   "execution_count": 52,
   "metadata": {
    "execution": {
     "iopub.execute_input": "2021-12-06T04:15:11.509618Z",
     "iopub.status.busy": "2021-12-06T04:15:11.508945Z",
     "iopub.status.idle": "2021-12-06T04:51:46.542267Z",
     "shell.execute_reply": "2021-12-06T04:51:46.540866Z",
     "shell.execute_reply.started": "2021-12-06T04:15:11.509567Z"
    }
   },
   "outputs": [],
   "source": [
    "cb1 = SaveModelCallback(monitor='dice',fname='best_model',comp=np.greater) # Callbacks\n",
    "cb2 = ReduceLROnPlateau(monitor='dice', patience=1,factor=0.2)\n",
    "learn.fit_one_cycle(22, 1e-4,cbs = [cb1,cb2])"
   ]
  },
  {
   "cell_type": "code",
   "execution_count": 53,
   "metadata": {
    "execution": {
     "iopub.execute_input": "2021-12-06T04:51:46.545242Z",
     "iopub.status.busy": "2021-12-06T04:51:46.544568Z",
     "iopub.status.idle": "2021-12-06T04:51:46.737931Z",
     "shell.execute_reply": "2021-12-06T04:51:46.736929Z",
     "shell.execute_reply.started": "2021-12-06T04:51:46.545173Z"
    }
   },
   "outputs": [],
   "source": [
    "learn.load('/kaggle/working/best_model');"
   ]
  },
  {
   "cell_type": "code",
   "execution_count": 54,
   "metadata": {
    "execution": {
     "iopub.execute_input": "2021-12-06T04:51:46.741680Z",
     "iopub.status.busy": "2021-12-06T04:51:46.741221Z",
     "iopub.status.idle": "2021-12-06T04:51:47.409392Z",
     "shell.execute_reply": "2021-12-06T04:51:47.408253Z",
     "shell.execute_reply.started": "2021-12-06T04:51:46.741629Z"
    }
   },
   "outputs": [],
   "source": [
    "try:\n",
    "    learn.export('/kaggle/working/export.pkl')\n",
    "except:\n",
    "    pass"
   ]
  },
  {
   "cell_type": "code",
   "execution_count": 55,
   "metadata": {
    "execution": {
     "iopub.execute_input": "2021-12-06T04:51:47.411074Z",
     "iopub.status.busy": "2021-12-06T04:51:47.410752Z",
     "iopub.status.idle": "2021-12-06T04:51:49.417015Z",
     "shell.execute_reply": "2021-12-06T04:51:49.416197Z",
     "shell.execute_reply.started": "2021-12-06T04:51:47.411029Z"
    }
   },
   "outputs": [],
   "source": [
    "learn.show_results(max_n = 8, figsize = (10,16) )"
   ]
  },
  {
   "cell_type": "code",
   "execution_count": 56,
   "metadata": {
    "execution": {
     "iopub.execute_input": "2021-12-06T04:51:49.419356Z",
     "iopub.status.busy": "2021-12-06T04:51:49.418395Z",
     "iopub.status.idle": "2021-12-06T04:52:15.968585Z",
     "shell.execute_reply": "2021-12-06T04:52:15.967655Z",
     "shell.execute_reply.started": "2021-12-06T04:51:49.419305Z"
    }
   },
   "outputs": [],
   "source": [
    "interp = SegmentationInterpretation.from_learner(learn)\n",
    "interp.plot_top_losses(k=3)"
   ]
  },
  {
   "cell_type": "markdown",
   "metadata": {},
   "source": [
    "## Loading Submission files and predicting results"
   ]
  },
  {
   "cell_type": "code",
   "execution_count": 57,
   "metadata": {
    "execution": {
     "iopub.execute_input": "2021-12-06T04:52:15.971077Z",
     "iopub.status.busy": "2021-12-06T04:52:15.970639Z",
     "iopub.status.idle": "2021-12-06T04:52:15.993106Z",
     "shell.execute_reply": "2021-12-06T04:52:15.992240Z",
     "shell.execute_reply.started": "2021-12-06T04:52:15.971036Z"
    }
   },
   "outputs": [],
   "source": [
    "submission = pd.read_csv('../input/sartorius-cell-instance-segmentation/sample_submission.csv')\n",
    "submission.head()"
   ]
  },
  {
   "cell_type": "code",
   "execution_count": 58,
   "metadata": {
    "execution": {
     "iopub.execute_input": "2021-12-06T04:52:15.995169Z",
     "iopub.status.busy": "2021-12-06T04:52:15.994686Z",
     "iopub.status.idle": "2021-12-06T04:52:16.001549Z",
     "shell.execute_reply": "2021-12-06T04:52:16.000295Z",
     "shell.execute_reply.started": "2021-12-06T04:52:15.995065Z"
    }
   },
   "outputs": [],
   "source": [
    "test_data_path = submission['id'].apply(lambda x:f'../input/sartorius-cell-instance-segmentation/test/{x}.png').tolist()"
   ]
  },
  {
   "cell_type": "code",
   "execution_count": 59,
   "metadata": {
    "execution": {
     "iopub.execute_input": "2021-12-06T04:52:16.004562Z",
     "iopub.status.busy": "2021-12-06T04:52:16.003878Z",
     "iopub.status.idle": "2021-12-06T04:52:17.804380Z",
     "shell.execute_reply": "2021-12-06T04:52:17.803364Z",
     "shell.execute_reply.started": "2021-12-06T04:52:16.004485Z"
    }
   },
   "outputs": [],
   "source": [
    "tst_dl = learn.dls.test_dl(test_data_path)\n",
    "preds = learn.get_preds(dl = tst_dl)[0]"
   ]
  },
  {
   "cell_type": "code",
   "execution_count": 60,
   "metadata": {
    "execution": {
     "iopub.execute_input": "2021-12-06T04:52:17.806720Z",
     "iopub.status.busy": "2021-12-06T04:52:17.806353Z",
     "iopub.status.idle": "2021-12-06T04:52:18.056060Z",
     "shell.execute_reply": "2021-12-06T04:52:18.055182Z",
     "shell.execute_reply.started": "2021-12-06T04:52:17.806653Z"
    }
   },
   "outputs": [],
   "source": [
    "prediction_masks = [x.argmax(axis=0) for x in preds]"
   ]
  },
  {
   "cell_type": "markdown",
   "metadata": {},
   "source": [
    "## A look at test predictions"
   ]
  },
  {
   "cell_type": "code",
   "execution_count": 61,
   "metadata": {
    "execution": {
     "iopub.execute_input": "2021-12-06T04:52:18.057852Z",
     "iopub.status.busy": "2021-12-06T04:52:18.057562Z",
     "iopub.status.idle": "2021-12-06T04:52:18.064848Z",
     "shell.execute_reply": "2021-12-06T04:52:18.063529Z",
     "shell.execute_reply.started": "2021-12-06T04:52:18.057811Z"
    }
   },
   "outputs": [],
   "source": [
    "im_num = 0\n",
    "ts_img = PIL.Image.open(test_data_path[im_num])\n",
    "ts_mask = prediction_masks[im_num]"
   ]
  },
  {
   "cell_type": "code",
   "execution_count": 62,
   "metadata": {
    "execution": {
     "iopub.execute_input": "2021-12-06T04:52:18.067907Z",
     "iopub.status.busy": "2021-12-06T04:52:18.067084Z",
     "iopub.status.idle": "2021-12-06T04:52:19.681114Z",
     "shell.execute_reply": "2021-12-06T04:52:19.680274Z",
     "shell.execute_reply.started": "2021-12-06T04:52:18.067844Z"
    }
   },
   "outputs": [],
   "source": [
    "plt.figure(1,figsize=(18,8))\n",
    "plt.subplot(121)\n",
    "plt.imshow(ts_img)\n",
    "plt.title('Test Image')\n",
    "plt.subplot(122)\n",
    "plt.imshow(ts_img)\n",
    "plt.imshow(ts_mask,alpha=0.5);\n",
    "plt.title('Test Image + Predicted Mask');"
   ]
  },
  {
   "cell_type": "markdown",
   "metadata": {},
   "source": [
    "## Converting predicted semantic masks to instance masks and then to run length encodings"
   ]
  },
  {
   "cell_type": "code",
   "execution_count": 63,
   "metadata": {
    "execution": {
     "iopub.execute_input": "2021-12-06T04:52:19.683249Z",
     "iopub.status.busy": "2021-12-06T04:52:19.682736Z",
     "iopub.status.idle": "2021-12-06T04:52:19.695189Z",
     "shell.execute_reply": "2021-12-06T04:52:19.693689Z",
     "shell.execute_reply.started": "2021-12-06T04:52:19.683189Z"
    }
   },
   "outputs": [],
   "source": [
    "def CCL(img_arr):\n",
    "    img = img_arr\n",
    "    # Converting those pixels with values 1-127 to 0 and others to 1\n",
    "    #img = cv2.threshold(img, 127, 255, cv2.THRESH_BINARY)[1]\n",
    "    # Applying cv2.connectedComponents() \n",
    "    num_labels, labels = cv2.connectedComponents(img)\n",
    "    # Map component labels to hue val, 0-179 is the hue range in OpenCV\n",
    "    label_hue = np.uint8(179*labels/np.max(labels))\n",
    "    blank_ch = 255*np.ones_like(label_hue)\n",
    "    labeled_img = cv2.merge([label_hue, blank_ch, blank_ch])\n",
    "    ret_lbl = labeled_img.copy()\n",
    "    return ret_lbl[:,:,0]"
   ]
  },
  {
   "cell_type": "code",
   "execution_count": 64,
   "metadata": {
    "execution": {
     "iopub.execute_input": "2021-12-06T04:52:19.697888Z",
     "iopub.status.busy": "2021-12-06T04:52:19.697033Z",
     "iopub.status.idle": "2021-12-06T04:52:19.719711Z",
     "shell.execute_reply": "2021-12-06T04:52:19.718787Z",
     "shell.execute_reply.started": "2021-12-06T04:52:19.697836Z"
    }
   },
   "outputs": [],
   "source": [
    "is_mask = np.expand_dims(prediction_masks[im_num].numpy(),axis=-1).astype(np.uint8)\n",
    "is_img = CCL(is_mask)"
   ]
  },
  {
   "cell_type": "code",
   "execution_count": 65,
   "metadata": {
    "execution": {
     "iopub.execute_input": "2021-12-06T04:52:19.722829Z",
     "iopub.status.busy": "2021-12-06T04:52:19.721502Z",
     "iopub.status.idle": "2021-12-06T04:52:21.224194Z",
     "shell.execute_reply": "2021-12-06T04:52:21.205930Z",
     "shell.execute_reply.started": "2021-12-06T04:52:19.722663Z"
    }
   },
   "outputs": [],
   "source": [
    "plt.figure(1,figsize=(18,8))\n",
    "plt.subplot(131)\n",
    "plt.imshow(ts_img)\n",
    "plt.title('Test Image')\n",
    "plt.subplot(132)\n",
    "plt.imshow(is_img)\n",
    "plt.title('Instance Converted mask')\n",
    "plt.subplot(133)\n",
    "plt.imshow(ts_img)\n",
    "plt.imshow(is_mask,alpha=0.5);\n",
    "plt.title('Test Image upon Instance Converted Mask');"
   ]
  },
  {
   "cell_type": "markdown",
   "metadata": {},
   "source": [
    "**See how CCL algorithm has colored each mask with a different color**"
   ]
  },
  {
   "cell_type": "code",
   "execution_count": 66,
   "metadata": {
    "execution": {
     "iopub.execute_input": "2021-12-06T04:52:21.226404Z",
     "iopub.status.busy": "2021-12-06T04:52:21.226069Z",
     "iopub.status.idle": "2021-12-06T04:52:21.241113Z",
     "shell.execute_reply": "2021-12-06T04:52:21.239917Z",
     "shell.execute_reply.started": "2021-12-06T04:52:21.226351Z"
    }
   },
   "outputs": [],
   "source": [
    "# From https://www.kaggle.com/stainsby/fast-tested-rle\n",
    "def rle_decode(mask_rle, shape=(520, 704)):\n",
    "    '''\n",
    "    mask_rle: run-length as string formated (start length)\n",
    "    shape: (height,width) of array to return \n",
    "    Returns numpy array, 1 - mask, 0 - background\n",
    "\n",
    "    '''\n",
    "    s = mask_rle.split()\n",
    "    starts, lengths = [np.asarray(x, dtype=int) for x in (s[0:][::2], s[1:][::2])]\n",
    "    starts -= 1\n",
    "    ends = starts + lengths\n",
    "    img = np.zeros(shape[0]*shape[1], dtype=np.uint8)\n",
    "    for lo, hi in zip(starts, ends):\n",
    "        img[lo:hi] = 1\n",
    "    return img.reshape(shape)  # Needed to align to RLE direction\n",
    "\n",
    "def rle_encode(img):\n",
    "    '''\n",
    "    img: numpy array, 1 - mask, 0 - background\n",
    "    Returns run length as string formated\n",
    "    '''\n",
    "    pixels = img.flatten()\n",
    "    pixels = np.concatenate([[0], pixels, [0]])\n",
    "    runs = np.where(pixels[1:] != pixels[:-1])[0] + 1\n",
    "    runs[1::2] -= runs[::2]\n",
    "    return ' '.join(str(x) for x in runs)"
   ]
  },
  {
   "cell_type": "code",
   "execution_count": 67,
   "metadata": {
    "execution": {
     "iopub.execute_input": "2021-12-06T04:52:21.244684Z",
     "iopub.status.busy": "2021-12-06T04:52:21.244232Z",
     "iopub.status.idle": "2021-12-06T04:52:21.257310Z",
     "shell.execute_reply": "2021-12-06T04:52:21.256179Z",
     "shell.execute_reply.started": "2021-12-06T04:52:21.244639Z"
    }
   },
   "outputs": [],
   "source": [
    "def convert_seg_ins(img_f):\n",
    "    lbl_img1 = img_f.copy()\n",
    "    grps = list(np.unique(lbl_img1))\n",
    "    grps.remove(0)\n",
    "    all_masks = []\n",
    "    shape = (520,704)\n",
    "    for g in grps:\n",
    "        a = np.where(((lbl_img1!=0)&(lbl_img1!=g)),np.zeros(shape),lbl_img1)\n",
    "        all_masks.append(a.clip(0,1))\n",
    "    all_masks = np.array(all_masks)\n",
    "    return all_masks"
   ]
  },
  {
   "cell_type": "markdown",
   "metadata": {},
   "source": [
    "### Writing masks to rle"
   ]
  },
  {
   "cell_type": "code",
   "execution_count": 68,
   "metadata": {
    "execution": {
     "iopub.execute_input": "2021-12-06T04:52:21.259502Z",
     "iopub.status.busy": "2021-12-06T04:52:21.259077Z",
     "iopub.status.idle": "2021-12-06T04:52:21.268781Z",
     "shell.execute_reply": "2021-12-06T04:52:21.267635Z",
     "shell.execute_reply.started": "2021-12-06T04:52:21.259445Z"
    }
   },
   "outputs": [],
   "source": [
    "sub_ids = submission['id'].values"
   ]
  },
  {
   "cell_type": "code",
   "execution_count": 69,
   "metadata": {
    "execution": {
     "iopub.execute_input": "2021-12-06T04:52:21.270790Z",
     "iopub.status.busy": "2021-12-06T04:52:21.270216Z",
     "iopub.status.idle": "2021-12-06T04:52:23.501822Z",
     "shell.execute_reply": "2021-12-06T04:52:23.500812Z",
     "shell.execute_reply.started": "2021-12-06T04:52:21.270744Z"
    }
   },
   "outputs": [],
   "source": [
    "res = []\n",
    "n = 0\n",
    "for i in tqdm(range(len(prediction_masks))):\n",
    "    chk_mask = np.expand_dims(prediction_masks[i].numpy(),axis=-1).astype(np.uint8)\n",
    "    lbl_img = CCL(chk_mask)\n",
    "    pred_masks = convert_seg_ins(lbl_img)\n",
    "    for mask in pred_masks:\n",
    "        ts = np.unique(mask, return_counts=True)[1][1]\n",
    "        #removing blocks with very small areas\n",
    "        if ts>50:\n",
    "            res.append([sub_ids[i],rle_encode(mask)])"
   ]
  },
  {
   "cell_type": "code",
   "execution_count": 70,
   "metadata": {
    "execution": {
     "iopub.execute_input": "2021-12-06T04:52:23.504112Z",
     "iopub.status.busy": "2021-12-06T04:52:23.503556Z",
     "iopub.status.idle": "2021-12-06T04:52:23.511793Z",
     "shell.execute_reply": "2021-12-06T04:52:23.510692Z",
     "shell.execute_reply.started": "2021-12-06T04:52:23.504062Z"
    }
   },
   "outputs": [],
   "source": [
    "res[0]"
   ]
  },
  {
   "cell_type": "code",
   "execution_count": 71,
   "metadata": {
    "execution": {
     "iopub.execute_input": "2021-12-06T04:52:23.514330Z",
     "iopub.status.busy": "2021-12-06T04:52:23.513499Z",
     "iopub.status.idle": "2021-12-06T04:52:23.523455Z",
     "shell.execute_reply": "2021-12-06T04:52:23.522339Z",
     "shell.execute_reply.started": "2021-12-06T04:52:23.514280Z"
    }
   },
   "outputs": [],
   "source": [
    "sub_df = pd.DataFrame(res,columns=['id', 'predicted'])"
   ]
  },
  {
   "cell_type": "code",
   "execution_count": 72,
   "metadata": {
    "execution": {
     "iopub.execute_input": "2021-12-06T04:52:23.525944Z",
     "iopub.status.busy": "2021-12-06T04:52:23.525376Z",
     "iopub.status.idle": "2021-12-06T04:52:23.542094Z",
     "shell.execute_reply": "2021-12-06T04:52:23.541207Z",
     "shell.execute_reply.started": "2021-12-06T04:52:23.525897Z"
    }
   },
   "outputs": [],
   "source": [
    "sub_df.head()"
   ]
  },
  {
   "cell_type": "code",
   "execution_count": 73,
   "metadata": {
    "execution": {
     "iopub.execute_input": "2021-12-06T04:52:23.544103Z",
     "iopub.status.busy": "2021-12-06T04:52:23.543766Z",
     "iopub.status.idle": "2021-12-06T04:52:23.558309Z",
     "shell.execute_reply": "2021-12-06T04:52:23.557275Z",
     "shell.execute_reply.started": "2021-12-06T04:52:23.544059Z"
    }
   },
   "outputs": [],
   "source": [
    "sub_df.to_csv('submission.csv',index=False)"
   ]
  },
  {
   "cell_type": "code",
   "execution_count": 74,
   "metadata": {
    "execution": {
     "iopub.execute_input": "2021-12-06T04:52:23.560124Z",
     "iopub.status.busy": "2021-12-06T04:52:23.559801Z",
     "iopub.status.idle": "2021-12-06T04:52:23.571516Z",
     "shell.execute_reply": "2021-12-06T04:52:23.570347Z",
     "shell.execute_reply.started": "2021-12-06T04:52:23.560080Z"
    }
   },
   "outputs": [],
   "source": [
    "sub_df['id'].value_counts()"
   ]
  },
  {
   "cell_type": "markdown",
   "metadata": {},
   "source": []
  },
  {
   "cell_type": "code",
   "execution_count": null,
   "metadata": {},
   "outputs": [],
   "source": []
  }
 ],
 "metadata": {
  "kernelspec": {
   "display_name": "Python 3 (ipykernel)",
   "language": "python",
   "name": "python3"
  },
  "language_info": {
   "codemirror_mode": {
    "name": "ipython",
    "version": 3
   },
   "file_extension": ".py",
   "mimetype": "text/x-python",
   "name": "python",
   "nbconvert_exporter": "python",
   "pygments_lexer": "ipython3",
   "version": "3.10.0"
  }
 },
 "nbformat": 4,
 "nbformat_minor": 4
}
